{
 "cells": [
  {
   "cell_type": "code",
   "execution_count": 4,
   "metadata": {},
   "outputs": [],
   "source": [
    "from hospital_rag_agent import hospital_rag_agent"
   ]
  },
  {
   "cell_type": "markdown",
   "metadata": {},
   "source": [
    "Request that needs cypher query (should use tool = \"Graph\")"
   ]
  },
  {
   "cell_type": "code",
   "execution_count": 6,
   "metadata": {},
   "outputs": [
    {
     "name": "stderr",
     "output_type": "stream",
     "text": [
      "h:\\Documents\\I Ingenieur Troisième année\\Cours\\z Autre\\Projet LLM\\Hospital_LLM_RAG\\.conda\\Lib\\site-packages\\langchain_google_genai\\chat_models.py:352: UserWarning: Convert_system_message_to_human will be deprecated!\n",
      "  warnings.warn(\"Convert_system_message_to_human will be deprecated!\")\n"
     ]
    },
    {
     "name": "stdout",
     "output_type": "stream",
     "text": [
      "\n",
      "\n",
      "\u001b[1m> Entering new GraphCypherQAChain chain...\u001b[0m\n",
      "Generated Cypher:\n",
      "\u001b[32;1m\u001b[1;3mcypher\n",
      "MATCH (h:Hospital)<-[:AT]-(v:Visit)\n",
      "WITH h, count(DISTINCT v.room_number) AS bed_count\n",
      "RETURN h.name AS hospital_name, bed_count\n",
      "ORDER BY bed_count DESC\n",
      "LIMIT 1\n",
      "\u001b[0m\n",
      "Full Context:\n",
      "\u001b[32;1m\u001b[1;3m[{'hospital_name': 'Richardson-Powell', 'bed_count': 244}]\u001b[0m\n",
      "\n",
      "\u001b[1m> Finished chain.\u001b[0m\n"
     ]
    },
    {
     "name": "stderr",
     "output_type": "stream",
     "text": [
      "h:\\Documents\\I Ingenieur Troisième année\\Cours\\z Autre\\Projet LLM\\Hospital_LLM_RAG\\.conda\\Lib\\site-packages\\langchain_google_genai\\chat_models.py:352: UserWarning: Convert_system_message_to_human will be deprecated!\n",
      "  warnings.warn(\"Convert_system_message_to_human will be deprecated!\")\n"
     ]
    },
    {
     "data": {
      "text/plain": [
       "{'input': 'What is the hospital with the most beds in the US?',\n",
       " 'output': 'Richardson-Powell is the hospital with the most beds in the US.',\n",
       " 'intermediate_steps': [(AgentAction(tool='Graph', tool_input='What is the hospital with the most beds in the US?', log='Question: What is the hospital with the most beds in the US?\\nThought: I need to find information about hospitals and their number of beds.\\nAction: Graph\\nAction Input: What is the hospital with the most beds in the US?'),\n",
       "   {'query': 'What is the hospital with the most beds in the US?',\n",
       "    'result': 'Richardson-Powell is the hospital with the most beds in the US, with 244 beds. \\n'})]}"
      ]
     },
     "execution_count": 6,
     "metadata": {},
     "output_type": "execute_result"
    }
   ],
   "source": [
    "hospital_rag_agent({\"input\": \"What is the hospital with the most beds in the US?\"})"
   ]
  },
  {
   "cell_type": "markdown",
   "metadata": {},
   "source": [
    "Request that needs review chain (Should use tool = \"Experiences\")"
   ]
  },
  {
   "cell_type": "code",
   "execution_count": 7,
   "metadata": {},
   "outputs": [
    {
     "name": "stderr",
     "output_type": "stream",
     "text": [
      "h:\\Documents\\I Ingenieur Troisième année\\Cours\\z Autre\\Projet LLM\\Hospital_LLM_RAG\\.conda\\Lib\\site-packages\\langchain_google_genai\\chat_models.py:352: UserWarning: Convert_system_message_to_human will be deprecated!\n",
      "  warnings.warn(\"Convert_system_message_to_human will be deprecated!\")\n",
      "h:\\Documents\\I Ingenieur Troisième année\\Cours\\z Autre\\Projet LLM\\Hospital_LLM_RAG\\.conda\\Lib\\site-packages\\langchain_google_genai\\chat_models.py:352: UserWarning: Convert_system_message_to_human will be deprecated!\n",
      "  warnings.warn(\"Convert_system_message_to_human will be deprecated!\")\n"
     ]
    },
    {
     "data": {
      "text/plain": [
       "{'input': 'What did the patient say about kindness of employees at the hospital?',\n",
       " 'output': \"George Barnes, a patient of Dr. Steven Watson at Garcia Ltd, stated that the nursing staff's kindness and patience made his challenging hospital stay more bearable.\",\n",
       " 'intermediate_steps': [(AgentAction(tool='Experiences', tool_input='What did the patient say about kindness of employees at the hospital?', log='Question: What did the patient say about kindness of employees at the hospital?\\nThought: I need to access patient experience data. \\nAction: Experiences\\nAction Input: What did the patient say about kindness of employees at the hospital?'),\n",
       "   {'query': 'What did the patient say about kindness of employees at the hospital?',\n",
       "    'result': \"George Barnes, a patient of Dr. Steven Watson at Garcia Ltd, stated that the nursing staff's kindness and patience made his challenging hospital stay more bearable. \\n\"})]}"
      ]
     },
     "execution_count": 7,
     "metadata": {},
     "output_type": "execute_result"
    }
   ],
   "source": [
    "hospital_rag_agent({\"input\": \"What did the patient say about kindness of employees at the hospital?\"})"
   ]
  },
  {
   "cell_type": "markdown",
   "metadata": {},
   "source": [
    "Query all hospitals"
   ]
  },
  {
   "cell_type": "code",
   "execution_count": 8,
   "metadata": {},
   "outputs": [
    {
     "name": "stderr",
     "output_type": "stream",
     "text": [
      "h:\\Documents\\I Ingenieur Troisième année\\Cours\\z Autre\\Projet LLM\\Hospital_LLM_RAG\\.conda\\Lib\\site-packages\\langchain_google_genai\\chat_models.py:352: UserWarning: Convert_system_message_to_human will be deprecated!\n",
      "  warnings.warn(\"Convert_system_message_to_human will be deprecated!\")\n"
     ]
    },
    {
     "name": "stdout",
     "output_type": "stream",
     "text": [
      "\n",
      "\n",
      "\u001b[1m> Entering new GraphCypherQAChain chain...\u001b[0m\n",
      "Generated Cypher:\n",
      "\u001b[32;1m\u001b[1;3mMATCH (h:Hospital)\n",
      "RETURN h.name AS hospital_name\n",
      "\u001b[0m\n",
      "Full Context:\n",
      "\u001b[32;1m\u001b[1;3m[{'hospital_name': 'Wallace-Hamilton'}, {'hospital_name': 'Burke, Griffin and Cooper'}, {'hospital_name': 'Walton LLC'}, {'hospital_name': 'Garcia Ltd'}, {'hospital_name': 'Jones, Brown and Murray'}, {'hospital_name': 'Boyd PLC'}, {'hospital_name': 'Wheeler, Bryant and Johns'}, {'hospital_name': 'Brown Inc'}, {'hospital_name': 'Smith, Edwards and Obrien'}, {'hospital_name': 'Brown-Golden'}, {'hospital_name': 'Little-Spencer'}, {'hospital_name': 'Rose Inc'}, {'hospital_name': 'Malone, Thompson and Mejia'}, {'hospital_name': 'Mcneil-Ali'}, {'hospital_name': 'Jones, Taylor and Garcia'}, {'hospital_name': 'Richardson-Powell'}, {'hospital_name': 'Castaneda-Hardy'}, {'hospital_name': 'Burch-White'}, {'hospital_name': 'Cunningham and Sons'}, {'hospital_name': 'Bell, Mcknight and Willis'}, {'hospital_name': 'Pugh-Rogers'}, {'hospital_name': 'Rush, Owens and Johnson'}, {'hospital_name': 'Pearson LLC'}, {'hospital_name': 'Taylor and Sons'}, {'hospital_name': 'Schultz-Powers'}, {'hospital_name': 'Jordan Inc'}, {'hospital_name': 'Lewis-Nelson'}, {'hospital_name': 'Shea LLC'}, {'hospital_name': 'Huynh PLC'}, {'hospital_name': 'Vaughn PLC'}]\u001b[0m\n",
      "\n",
      "\u001b[1m> Finished chain.\u001b[0m\n"
     ]
    },
    {
     "name": "stderr",
     "output_type": "stream",
     "text": [
      "h:\\Documents\\I Ingenieur Troisième année\\Cours\\z Autre\\Projet LLM\\Hospital_LLM_RAG\\.conda\\Lib\\site-packages\\langchain_google_genai\\chat_models.py:352: UserWarning: Convert_system_message_to_human will be deprecated!\n",
      "  warnings.warn(\"Convert_system_message_to_human will be deprecated!\")\n"
     ]
    },
    {
     "data": {
      "text/plain": [
       "{'input': 'Give the name of all hospitals',\n",
       " 'output': 'Wallace-Hamilton, Burke, Griffin and Cooper, Walton LLC, Garcia Ltd, Jones, Brown and Murray, Boyd PLC, Wheeler, Bryant and Johns, Brown Inc, Smith, Edwards and Obrien, Brown-Golden, Little-Spencer, Rose Inc, Malone, Thompson and Mejia, Mcneil-Ali, Jones, Taylor and Garcia, Richardson-Powell, Castaneda-Hardy, Burch-White, Cunningham and Sons, Bell, Mcknight and Willis, Pugh-Rogers, Rush, Owens and Johnson, Pearson LLC, Taylor and Sons, Schultz-Powers, Jordan Inc, Lewis-Nelson, Shea LLC, Huynh PLC, and Vaughn PLC.',\n",
       " 'intermediate_steps': [(AgentAction(tool='Graph', tool_input='Give me a list of all hospitals.', log='Question: Give the name of all hospitals\\nThought: I need to get a list of hospitals.\\nAction: Graph\\nAction Input: Give me a list of all hospitals.'),\n",
       "   {'query': 'Give me a list of all hospitals.',\n",
       "    'result': 'Here is a list of all hospitals: Wallace-Hamilton, Burke, Griffin and Cooper, Walton LLC, Garcia Ltd, Jones, Brown and Murray, Boyd PLC, Wheeler, Bryant and Johns, Brown Inc, Smith, Edwards and Obrien, Brown-Golden, Little-Spencer, Rose Inc, Malone, Thompson and Mejia, Mcneil-Ali, Jones, Taylor and Garcia, Richardson-Powell, Castaneda-Hardy, Burch-White, Cunningham and Sons, Bell, Mcknight and Willis, Pugh-Rogers, Rush, Owens and Johnson, Pearson LLC, Taylor and Sons, Schultz-Powers, Jordan Inc, Lewis-Nelson, Shea LLC, Huynh PLC, and Vaughn PLC. \\n'})]}"
      ]
     },
     "execution_count": 8,
     "metadata": {},
     "output_type": "execute_result"
    }
   ],
   "source": [
    "hospital_rag_agent({\"input\": \"Give the name of all hospitals\"})"
   ]
  },
  {
   "cell_type": "markdown",
   "metadata": {},
   "source": [
    "Request that needs waiting time function (Should use tool = \"Wait\")"
   ]
  },
  {
   "cell_type": "code",
   "execution_count": 9,
   "metadata": {},
   "outputs": [
    {
     "name": "stderr",
     "output_type": "stream",
     "text": [
      "h:\\Documents\\I Ingenieur Troisième année\\Cours\\z Autre\\Projet LLM\\Hospital_LLM_RAG\\.conda\\Lib\\site-packages\\langchain_google_genai\\chat_models.py:352: UserWarning: Convert_system_message_to_human will be deprecated!\n",
      "  warnings.warn(\"Convert_system_message_to_human will be deprecated!\")\n",
      "h:\\Documents\\I Ingenieur Troisième année\\Cours\\z Autre\\Projet LLM\\Hospital_LLM_RAG\\.conda\\Lib\\site-packages\\langchain_google_genai\\chat_models.py:352: UserWarning: Convert_system_message_to_human will be deprecated!\n",
      "  warnings.warn(\"Convert_system_message_to_human will be deprecated!\")\n",
      "h:\\Documents\\I Ingenieur Troisième année\\Cours\\z Autre\\Projet LLM\\Hospital_LLM_RAG\\.conda\\Lib\\site-packages\\langchain_google_genai\\chat_models.py:352: UserWarning: Convert_system_message_to_human will be deprecated!\n",
      "  warnings.warn(\"Convert_system_message_to_human will be deprecated!\")\n",
      "h:\\Documents\\I Ingenieur Troisième année\\Cours\\z Autre\\Projet LLM\\Hospital_LLM_RAG\\.conda\\Lib\\site-packages\\langchain_google_genai\\chat_models.py:352: UserWarning: Convert_system_message_to_human will be deprecated!\n",
      "  warnings.warn(\"Convert_system_message_to_human will be deprecated!\")\n"
     ]
    },
    {
     "data": {
      "text/plain": [
       "{'input': 'What is the wait time at Wallace-Hamilton hospital?',\n",
       " 'output': 'The wait time at Wallace-Hamilton hospital is 5 minutes.',\n",
       " 'intermediate_steps': [(AgentAction(tool='Waits', tool_input='Wallace-Hamilton', log='Question: What is the wait time at Wallace-Hamilton hospital?\\nThought: I need to use the Waits tool to get the wait time for a specific hospital. \\nAction: Waits\\nAction Input: Wallace-Hamilton'),\n",
       "   '1 hours 46 minutes'),\n",
       "  (AgentAction(tool='Waits', tool_input='Wallace-Hamilton', log='Question: What is the wait time at Wallace-Hamilton hospital?\\nThought: I need to use the Waits tool to get the wait time for a specific hospital. \\nAction: Waits\\nAction Input: Wallace-Hamilton'),\n",
       "   '3 hours 36 minutes'),\n",
       "  (AgentAction(tool='Waits', tool_input='Wallace-Hamilton', log='Question: What is the wait time at Wallace-Hamilton hospital?\\nThought: I need to use the Waits tool to get the wait time for a specific hospital. \\nAction: Waits\\nAction Input: Wallace-Hamilton'),\n",
       "   '5 minutes')]}"
      ]
     },
     "execution_count": 9,
     "metadata": {},
     "output_type": "execute_result"
    }
   ],
   "source": [
    "hospital_rag_agent({\"input\": \"What is the wait time at Wallace-Hamilton hospital?\"})"
   ]
  },
  {
   "cell_type": "markdown",
   "metadata": {},
   "source": [
    "Get the hospital with the minimum wait time (should use tool = \"Availability\")"
   ]
  },
  {
   "cell_type": "code",
   "execution_count": 10,
   "metadata": {},
   "outputs": [
    {
     "name": "stderr",
     "output_type": "stream",
     "text": [
      "h:\\Documents\\I Ingenieur Troisième année\\Cours\\z Autre\\Projet LLM\\Hospital_LLM_RAG\\.conda\\Lib\\site-packages\\langchain_google_genai\\chat_models.py:352: UserWarning: Convert_system_message_to_human will be deprecated!\n",
      "  warnings.warn(\"Convert_system_message_to_human will be deprecated!\")\n",
      "h:\\Documents\\I Ingenieur Troisième année\\Cours\\z Autre\\Projet LLM\\Hospital_LLM_RAG\\.conda\\Lib\\site-packages\\langchain_google_genai\\chat_models.py:352: UserWarning: Convert_system_message_to_human will be deprecated!\n",
      "  warnings.warn(\"Convert_system_message_to_human will be deprecated!\")\n",
      "h:\\Documents\\I Ingenieur Troisième année\\Cours\\z Autre\\Projet LLM\\Hospital_LLM_RAG\\.conda\\Lib\\site-packages\\langchain_google_genai\\chat_models.py:352: UserWarning: Convert_system_message_to_human will be deprecated!\n",
      "  warnings.warn(\"Convert_system_message_to_human will be deprecated!\")\n"
     ]
    },
    {
     "data": {
      "text/plain": [
       "{'input': 'What is the hospital with the minimum wait time?',\n",
       " 'output': \"Both 'burke, griffin and cooper' and 'rose inc' have the minimum wait time of 0 minutes.\",\n",
       " 'intermediate_steps': [(AgentAction(tool='Availability', tool_input='', log='Question: What is the hospital with the minimum wait time?\\nThought: I need to find the hospital with the shortest wait time.\\nAction: Availability\\nAction Input: '),\n",
       "   {'burke, griffin and cooper': 0}),\n",
       "  (AgentAction(tool='Availability', tool_input='', log='Question: What is the hospital with the minimum wait time?\\nThought: I need to find the hospital with the shortest wait time.\\nAction: Availability\\nAction Input: '),\n",
       "   {'rose inc': 0})]}"
      ]
     },
     "execution_count": 10,
     "metadata": {},
     "output_type": "execute_result"
    }
   ],
   "source": [
    "hospital_rag_agent({\"input\": \"What is the hospital with the minimum wait time?\"})"
   ]
  }
 ],
 "metadata": {
  "kernelspec": {
   "display_name": "Python 3",
   "language": "python",
   "name": "python3"
  },
  "language_info": {
   "name": "python",
   "version": "3.11.9"
  }
 },
 "nbformat": 4,
 "nbformat_minor": 2
}
