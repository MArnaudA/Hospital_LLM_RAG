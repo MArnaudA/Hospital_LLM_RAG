{
 "cells": [
  {
   "cell_type": "code",
   "execution_count": 1,
   "metadata": {},
   "outputs": [
    {
     "data": {
      "text/plain": [
       "True"
      ]
     },
     "execution_count": 1,
     "metadata": {},
     "output_type": "execute_result"
    }
   ],
   "source": [
    "import dotenv\n",
    "\n",
    "dotenv.load_dotenv()"
   ]
  },
  {
   "cell_type": "code",
   "execution_count": 2,
   "metadata": {},
   "outputs": [
    {
     "name": "stderr",
     "output_type": "stream",
     "text": [
      "h:\\Documents\\I Ingenieur Troisième année\\Cours\\z Autre\\Projet LLM\\Hospital_LLM_RAG\\.conda\\Lib\\site-packages\\tqdm\\auto.py:21: TqdmWarning: IProgress not found. Please update jupyter and ipywidgets. See https://ipywidgets.readthedocs.io/en/stable/user_install.html\n",
      "  from .autonotebook import tqdm as notebook_tqdm\n",
      "h:\\Documents\\I Ingenieur Troisième année\\Cours\\z Autre\\Projet LLM\\Hospital_LLM_RAG\\.conda\\Lib\\site-packages\\langchain_core\\_api\\deprecation.py:139: LangChainDeprecationWarning: The function `initialize_agent` was deprecated in LangChain 0.1.0 and will be removed in 0.3.0. Use Use new agent constructor methods like create_react_agent, create_json_agent, create_structured_chat_agent, etc. instead.\n",
      "  warn_deprecated(\n"
     ]
    }
   ],
   "source": [
    "from agents.hospital_rag_agent import hospital_rag_agent"
   ]
  },
  {
   "cell_type": "code",
   "execution_count": 3,
   "metadata": {},
   "outputs": [
    {
     "name": "stderr",
     "output_type": "stream",
     "text": [
      "h:\\Documents\\I Ingenieur Troisième année\\Cours\\z Autre\\Projet LLM\\Hospital_LLM_RAG\\.conda\\Lib\\site-packages\\langchain_google_genai\\chat_models.py:352: UserWarning: Convert_system_message_to_human will be deprecated!\n",
      "  warnings.warn(\"Convert_system_message_to_human will be deprecated!\")\n",
      "h:\\Documents\\I Ingenieur Troisième année\\Cours\\z Autre\\Projet LLM\\Hospital_LLM_RAG\\.conda\\Lib\\site-packages\\langchain_google_genai\\chat_models.py:352: UserWarning: Convert_system_message_to_human will be deprecated!\n",
      "  warnings.warn(\"Convert_system_message_to_human will be deprecated!\")\n",
      "h:\\Documents\\I Ingenieur Troisième année\\Cours\\z Autre\\Projet LLM\\Hospital_LLM_RAG\\.conda\\Lib\\site-packages\\langchain_google_genai\\chat_models.py:352: UserWarning: Convert_system_message_to_human will be deprecated!\n",
      "  warnings.warn(\"Convert_system_message_to_human will be deprecated!\")\n"
     ]
    },
    {
     "name": "stdout",
     "output_type": "stream",
     "text": [
      "The wait time at Wallace-Hamilton is 4 hours 11 minutes.\n"
     ]
    }
   ],
   "source": [
    "response = hospital_rag_agent.invoke(\n",
    "    {\"input\": \"What is the wait time at Wallace-Hamilton?\"}\n",
    ")\n",
    "print(response[\"output\"])"
   ]
  },
  {
   "cell_type": "code",
   "execution_count": 4,
   "metadata": {},
   "outputs": [
    {
     "name": "stderr",
     "output_type": "stream",
     "text": [
      "h:\\Documents\\I Ingenieur Troisième année\\Cours\\z Autre\\Projet LLM\\Hospital_LLM_RAG\\.conda\\Lib\\site-packages\\langchain_google_genai\\chat_models.py:352: UserWarning: Convert_system_message_to_human will be deprecated!\n",
      "  warnings.warn(\"Convert_system_message_to_human will be deprecated!\")\n",
      "h:\\Documents\\I Ingenieur Troisième année\\Cours\\z Autre\\Projet LLM\\Hospital_LLM_RAG\\.conda\\Lib\\site-packages\\langchain_google_genai\\chat_models.py:352: UserWarning: Convert_system_message_to_human will be deprecated!\n",
      "  warnings.warn(\"Convert_system_message_to_human will be deprecated!\")\n"
     ]
    },
    {
     "name": "stdout",
     "output_type": "stream",
     "text": [
      "Patients at Wallace-Hamilton said that the food lacked variety and vegetarian options. One patient described the meal options as limited.\n"
     ]
    }
   ],
   "source": [
    "response = hospital_rag_agent.invoke(\n",
    "    {\"input\": \"What did patient say about food at Wallace-Hamilton?\"}\n",
    ")\n",
    "print(response[\"output\"])"
   ]
  },
  {
   "cell_type": "code",
   "execution_count": 5,
   "metadata": {},
   "outputs": [
    {
     "name": "stderr",
     "output_type": "stream",
     "text": [
      "h:\\Documents\\I Ingenieur Troisième année\\Cours\\z Autre\\Projet LLM\\Hospital_LLM_RAG\\.conda\\Lib\\site-packages\\langchain_google_genai\\chat_models.py:352: UserWarning: Convert_system_message_to_human will be deprecated!\n",
      "  warnings.warn(\"Convert_system_message_to_human will be deprecated!\")\n",
      "h:\\Documents\\I Ingenieur Troisième année\\Cours\\z Autre\\Projet LLM\\Hospital_LLM_RAG\\.conda\\Lib\\site-packages\\langchain_google_genai\\chat_models.py:352: UserWarning: Convert_system_message_to_human will be deprecated!\n",
      "  warnings.warn(\"Convert_system_message_to_human will be deprecated!\")\n",
      "h:\\Documents\\I Ingenieur Troisième année\\Cours\\z Autre\\Projet LLM\\Hospital_LLM_RAG\\.conda\\Lib\\site-packages\\langchain_google_genai\\chat_models.py:352: UserWarning: Convert_system_message_to_human will be deprecated!\n",
      "  warnings.warn(\"Convert_system_message_to_human will be deprecated!\")\n",
      "h:\\Documents\\I Ingenieur Troisième année\\Cours\\z Autre\\Projet LLM\\Hospital_LLM_RAG\\.conda\\Lib\\site-packages\\langchain_google_genai\\chat_models.py:352: UserWarning: Convert_system_message_to_human will be deprecated!\n",
      "  warnings.warn(\"Convert_system_message_to_human will be deprecated!\")\n"
     ]
    },
    {
     "name": "stdout",
     "output_type": "stream",
     "text": [
      "Brown Inc has the shortest wait time.\n"
     ]
    }
   ],
   "source": [
    "response = hospital_rag_agent.invoke(\n",
    "    {\"input\": \"Which hospital has the shortest wait time?\"}\n",
    ")\n",
    "print(response[\"output\"])"
   ]
  },
  {
   "cell_type": "code",
   "execution_count": 6,
   "metadata": {},
   "outputs": [
    {
     "name": "stderr",
     "output_type": "stream",
     "text": [
      "h:\\Documents\\I Ingenieur Troisième année\\Cours\\z Autre\\Projet LLM\\Hospital_LLM_RAG\\.conda\\Lib\\site-packages\\langchain_google_genai\\chat_models.py:352: UserWarning: Convert_system_message_to_human will be deprecated!\n",
      "  warnings.warn(\"Convert_system_message_to_human will be deprecated!\")\n",
      "h:\\Documents\\I Ingenieur Troisième année\\Cours\\z Autre\\Projet LLM\\Hospital_LLM_RAG\\.conda\\Lib\\site-packages\\langchain_google_genai\\chat_models.py:352: UserWarning: Convert_system_message_to_human will be deprecated!\n",
      "  warnings.warn(\"Convert_system_message_to_human will be deprecated!\")\n"
     ]
    },
    {
     "name": "stdout",
     "output_type": "stream",
     "text": [
      "I cannot answer that question from the given data.\n"
     ]
    }
   ],
   "source": [
    "response = hospital_rag_agent.invoke(\n",
    "    {\"input\": \"Which hospital has the best food?\"}\n",
    ")\n",
    "print(response[\"output\"])"
   ]
  },
  {
   "cell_type": "code",
   "execution_count": 7,
   "metadata": {},
   "outputs": [
    {
     "name": "stderr",
     "output_type": "stream",
     "text": [
      "h:\\Documents\\I Ingenieur Troisième année\\Cours\\z Autre\\Projet LLM\\Hospital_LLM_RAG\\.conda\\Lib\\site-packages\\langchain_google_genai\\chat_models.py:352: UserWarning: Convert_system_message_to_human will be deprecated!\n",
      "  warnings.warn(\"Convert_system_message_to_human will be deprecated!\")\n"
     ]
    },
    {
     "name": "stdout",
     "output_type": "stream",
     "text": [
      "\n",
      "\n",
      "\u001b[1m> Entering new GraphCypherQAChain chain...\u001b[0m\n",
      "Generated Cypher:\n",
      "\u001b[32;1m\u001b[1;3mcypher\n",
      "MATCH (p:Physician)-[:TREATS]->(v:Visit)-[:COVERED_BY]->(payer:Payer)\n",
      "WHERE payer.name = 'Cigna'\n",
      "WITH p, count(DISTINCT v) AS patient_count\n",
      "RETURN p.name AS physician_name, patient_count\n",
      "ORDER BY patient_count DESC\n",
      "LIMIT 1\n",
      "\u001b[0m\n",
      "Full Context:\n",
      "\u001b[32;1m\u001b[1;3m[{'physician_name': 'Renee Brown', 'patient_count': 10}]\u001b[0m\n",
      "\n",
      "\u001b[1m> Finished chain.\u001b[0m\n"
     ]
    },
    {
     "name": "stderr",
     "output_type": "stream",
     "text": [
      "h:\\Documents\\I Ingenieur Troisième année\\Cours\\z Autre\\Projet LLM\\Hospital_LLM_RAG\\.conda\\Lib\\site-packages\\langchain_google_genai\\chat_models.py:352: UserWarning: Convert_system_message_to_human will be deprecated!\n",
      "  warnings.warn(\"Convert_system_message_to_human will be deprecated!\")\n"
     ]
    },
    {
     "data": {
      "text/plain": [
       "'Renee Brown has treated the most patients with Cigna insurance.'"
      ]
     },
     "execution_count": 7,
     "metadata": {},
     "output_type": "execute_result"
    }
   ],
   "source": [
    "response = hospital_rag_agent.invoke(\n",
    "    {\"input\": \"Which physician has treated the most patients covered by Cigna? Use Cigna as the payer.\"}\n",
    ")\n",
    "response[\"output\"]"
   ]
  },
  {
   "cell_type": "code",
   "execution_count": 13,
   "metadata": {},
   "outputs": [
    {
     "data": {
      "text/plain": [
       "'Renee Brown has treated the most patients with Cigna insurance.'"
      ]
     },
     "execution_count": 13,
     "metadata": {},
     "output_type": "execute_result"
    }
   ],
   "source": [
    "response[\"output\"]"
   ]
  },
  {
   "cell_type": "code",
   "execution_count": 8,
   "metadata": {},
   "outputs": [
    {
     "name": "stderr",
     "output_type": "stream",
     "text": [
      "h:\\Documents\\I Ingenieur Troisième année\\Cours\\z Autre\\Projet LLM\\Hospital_LLM_RAG\\.conda\\Lib\\site-packages\\langchain_google_genai\\chat_models.py:352: UserWarning: Convert_system_message_to_human will be deprecated!\n",
      "  warnings.warn(\"Convert_system_message_to_human will be deprecated!\")\n"
     ]
    },
    {
     "name": "stdout",
     "output_type": "stream",
     "text": [
      "\n",
      "\n",
      "\u001b[1m> Entering new GraphCypherQAChain chain...\u001b[0m\n",
      "Generated Cypher:\n",
      "\u001b[32;1m\u001b[1;3mcypher\n",
      "MATCH (p:Patient)-[:HAS]->(v:Visit)-[:WRITES]->(r:Review)\n",
      "WHERE p.id = 7674\n",
      "RETURN r.text AS review\n",
      "\u001b[0m\n",
      "Full Context:\n",
      "\u001b[32;1m\u001b[1;3m[{'review': 'The hospital provided exceptional care, but the billing process was confusing and frustrating. Clearer communication about costs would have been appreciated.'}]\u001b[0m\n",
      "\n",
      "\u001b[1m> Finished chain.\u001b[0m\n"
     ]
    },
    {
     "name": "stderr",
     "output_type": "stream",
     "text": [
      "h:\\Documents\\I Ingenieur Troisième année\\Cours\\z Autre\\Projet LLM\\Hospital_LLM_RAG\\.conda\\Lib\\site-packages\\langchain_google_genai\\chat_models.py:352: UserWarning: Convert_system_message_to_human will be deprecated!\n",
      "  warnings.warn(\"Convert_system_message_to_human will be deprecated!\")\n"
     ]
    }
   ],
   "source": [
    "response = hospital_rag_agent.invoke(\n",
    "    {\"input\": \"Show me reviews written by patient 7674\"}\n",
    ")"
   ]
  }
 ],
 "metadata": {
  "kernelspec": {
   "display_name": "Python 3",
   "language": "python",
   "name": "python3"
  },
  "language_info": {
   "codemirror_mode": {
    "name": "ipython",
    "version": 3
   },
   "file_extension": ".py",
   "mimetype": "text/x-python",
   "name": "python",
   "nbconvert_exporter": "python",
   "pygments_lexer": "ipython3",
   "version": "3.11.9"
  }
 },
 "nbformat": 4,
 "nbformat_minor": 2
}
