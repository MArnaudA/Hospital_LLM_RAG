{
 "cells": [
  {
   "cell_type": "code",
   "execution_count": 1,
   "metadata": {},
   "outputs": [
    {
     "data": {
      "text/plain": [
       "True"
      ]
     },
     "execution_count": 1,
     "metadata": {},
     "output_type": "execute_result"
    }
   ],
   "source": [
    "import dotenv\n",
    "\n",
    "dotenv.load_dotenv()"
   ]
  },
  {
   "cell_type": "code",
   "execution_count": 2,
   "metadata": {},
   "outputs": [
    {
     "name": "stderr",
     "output_type": "stream",
     "text": [
      "h:\\Documents\\I Ingenieur Troisième année\\Cours\\z Autre\\Projet LLM\\Hospital_LLM_RAG\\.conda\\Lib\\site-packages\\tqdm\\auto.py:21: TqdmWarning: IProgress not found. Please update jupyter and ipywidgets. See https://ipywidgets.readthedocs.io/en/stable/user_install.html\n",
      "  from .autonotebook import tqdm as notebook_tqdm\n"
     ]
    }
   ],
   "source": [
    "from hospital_review_chain import (\n",
    "    reviews_vector_chain\n",
    ")"
   ]
  },
  {
   "cell_type": "markdown",
   "metadata": {},
   "source": [
    "# Test hospital review chain"
   ]
  },
  {
   "cell_type": "code",
   "execution_count": 4,
   "metadata": {},
   "outputs": [
    {
     "name": "stdout",
     "output_type": "stream",
     "text": [
      "{'query': ' What have patients said about hospital efficiency?\\n            Mention details from specific reviews.', 'result': 'One patient, Megan Allison, described the staff at Rose Inc as \"efficient.\" No other reviews mentioned hospital or staff efficiency. \\n'}\n"
     ]
    }
   ],
   "source": [
    "query = \"\"\" What have patients said about hospital efficiency?\n",
    "            Mention details from specific reviews.\"\"\"\n",
    "response = reviews_vector_chain.invoke(query)\n",
    "print(response)"
   ]
  },
  {
   "cell_type": "code",
   "execution_count": 6,
   "metadata": {},
   "outputs": [
    {
     "name": "stdout",
     "output_type": "stream",
     "text": [
      "Here's a summary of patient feedback on hospital cleanliness:\n",
      "\n",
      "* **Schultz-Powers:** Bethany Farrell was \"pleasantly surprised\" by the cleanliness of the facilities and praised the janitorial staff for maintaining a hygienic environment. \n",
      "\n",
      "* **Vaughn PLC:** Donald Sparks's stay was negatively impacted by a \"lack of cleanliness\" and he stressed the importance of hygiene for preventing infections. Lorraine Scott, however, said she \"appreciate[d] the hospital's effort to maintain a clean environment\" and commended the janitorial staff.\n",
      "\n",
      "* **Pearson LLC:** Monique Foster found the hospital's cleanliness and hygiene standards \"commendable.\" \n",
      "\n"
     ]
    }
   ],
   "source": [
    "query = \"\"\" What have patients said about hospital cleanliness?\"\"\"\n",
    "response = reviews_vector_chain.invoke(query)\n",
    "print(response[\"result\"])"
   ]
  },
  {
   "cell_type": "code",
   "execution_count": 7,
   "metadata": {},
   "outputs": [
    {
     "name": "stdout",
     "output_type": "stream",
     "text": [
      "Here's a summary of patient comments regarding hospital staff:\n",
      "\n",
      "* **Burke, Griffin and Cooper:** Patients described the staff as \"compassionate.\"\n",
      "* **Malone, Thompson and Mejia:** Patients found the staff to be \"friendly and attentive.\"\n",
      "* **Boyd PLC:** Patients reported that the staff were \"friendly and caring.\" \n",
      "\n"
     ]
    }
   ],
   "source": [
    "query = \"\"\" What have patients said about hospital staff?\"\"\"\n",
    "response = reviews_vector_chain.invoke(query)\n",
    "print(response[\"result\"])"
   ]
  },
  {
   "cell_type": "markdown",
   "metadata": {},
   "source": [
    "# Test Hospital Cypher Chains"
   ]
  },
  {
   "cell_type": "code",
   "execution_count": 1,
   "metadata": {},
   "outputs": [
    {
     "data": {
      "text/plain": [
       "True"
      ]
     },
     "execution_count": 1,
     "metadata": {},
     "output_type": "execute_result"
    }
   ],
   "source": [
    "import dotenv\n",
    "\n",
    "dotenv.load_dotenv()"
   ]
  },
  {
   "cell_type": "code",
   "execution_count": 4,
   "metadata": {},
   "outputs": [
    {
     "name": "stderr",
     "output_type": "stream",
     "text": [
      "h:\\Documents\\I Ingenieur Troisième année\\Cours\\z Autre\\Projet LLM\\Hospital_LLM_RAG\\.conda\\Lib\\site-packages\\tqdm\\auto.py:21: TqdmWarning: IProgress not found. Please update jupyter and ipywidgets. See https://ipywidgets.readthedocs.io/en/stable/user_install.html\n",
      "  from .autonotebook import tqdm as notebook_tqdm\n"
     ]
    }
   ],
   "source": [
    "from hospital_cypher_chain import (\n",
    "    hospital_cypher_chain\n",
    ")"
   ]
  },
  {
   "cell_type": "code",
   "execution_count": 7,
   "metadata": {},
   "outputs": [
    {
     "name": "stdout",
     "output_type": "stream",
     "text": [
      "\n",
      "\n",
      "\u001b[1m> Entering new GraphCypherQAChain chain...\u001b[0m\n",
      "Generated Cypher:\n",
      "\u001b[32;1m\u001b[1;3mcypher\n",
      "MATCH (v:Visit)-[:AT]->(h:Hospital)\n",
      "WHERE v.admission_type = 'Emergency' AND h.state_name = 'NC' AND v.discharge_date IS NOT NULL\n",
      "WITH v.admission_date AS admission, v.discharge_date AS discharge\n",
      "RETURN avg(duration.inDays(date(admission), date(discharge)).days) AS average_duration\n",
      "\u001b[0m\n",
      "Full Context:\n",
      "\u001b[32;1m\u001b[1;3m[{'average_duration': 15.833783783783785}]\u001b[0m\n",
      "\n",
      "\u001b[1m> Finished chain.\u001b[0m\n",
      "The average visit duration for emergency visits in North Carolina is 15.83 days. \n",
      "\n"
     ]
    }
   ],
   "source": [
    "question = \"\"\"What is the average visit duration for\n",
    "              emergency visits in North Carolina?\"\"\"\n",
    "response = hospital_cypher_chain.invoke(question)\n",
    "print(response[\"result\"])"
   ]
  },
  {
   "cell_type": "code",
   "execution_count": 12,
   "metadata": {},
   "outputs": [
    {
     "name": "stdout",
     "output_type": "stream",
     "text": [
      "\n",
      "\n",
      "\u001b[1m> Entering new GraphCypherQAChain chain...\u001b[0m\n",
      "Generated Cypher:\n",
      "\u001b[32;1m\u001b[1;3mcypher\n",
      "MATCH (h:Hospital)<-[:AT]-(v:Visit)-[:COVERED_BY]->(p:Payer)\n",
      "WHERE p.name = 'Medicaid' AND v.admission_date >= '2022-01-01' AND v.admission_date < '2024-01-01'\n",
      "WITH h.state_name AS state, COUNT(v) AS visit_count,\n",
      "     SUM(CASE WHEN v.admission_date >= '2022-01-01' AND v.admission_date < '2023-01-01' THEN 1 ELSE 0 END) AS count_2022,\n",
      "     SUM(CASE WHEN v.admission_date >= '2023-01-01' AND v.admission_date < '2024-01-01' THEN 1 ELSE 0 END) AS count_2023\n",
      "WITH state, visit_count, count_2022, count_2023,\n",
      "     (toFloat(count_2023 - count_2022)) / toFloat(count_2022) * 100 AS percent_increase\n",
      "RETURN state, percent_increase\n",
      "ORDER BY percent_increase DESC\n",
      "LIMIT 1\n",
      "\u001b[0m\n",
      "Full Context:\n",
      "\u001b[32;1m\u001b[1;3m[{'state': 'TX', 'percent_increase': 8.823529411764707}]\u001b[0m\n",
      "\n",
      "\u001b[1m> Finished chain.\u001b[0m\n"
     ]
    },
    {
     "data": {
      "text/plain": [
       "'Texas had an 8.82% increase in Medicaid visits from 2022 to 2023. \\n'"
      ]
     },
     "execution_count": 12,
     "metadata": {},
     "output_type": "execute_result"
    }
   ],
   "source": [
    "question = \"\"\"Which state had the largest percent increase\n",
    "              in Medicaid visits from 2022 to 2023?\n",
    "              Use 'Medicaid as the payer name'\"\"\"\n",
    "response_2 = hospital_cypher_chain.invoke(question)\n",
    "response_2[\"result\"]"
   ]
  }
 ],
 "metadata": {
  "kernelspec": {
   "display_name": "Python 3",
   "language": "python",
   "name": "python3"
  },
  "language_info": {
   "codemirror_mode": {
    "name": "ipython",
    "version": 3
   },
   "file_extension": ".py",
   "mimetype": "text/x-python",
   "name": "python",
   "nbconvert_exporter": "python",
   "pygments_lexer": "ipython3",
   "version": "3.11.9"
  }
 },
 "nbformat": 4,
 "nbformat_minor": 2
}
